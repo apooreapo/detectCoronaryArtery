{
 "cells": [
  {
   "cell_type": "code",
   "execution_count": 2,
   "id": "90937248",
   "metadata": {},
   "outputs": [
    {
     "name": "stdout",
     "output_type": "stream",
     "text": [
      "Hello jupyter!\n",
      "INFO:tensorflow:Enabling eager execution\n",
      "INFO:tensorflow:Enabling v2 tensorshape\n",
      "INFO:tensorflow:Enabling resource variables\n",
      "INFO:tensorflow:Enabling tensor equality\n",
      "INFO:tensorflow:Enabling control flow v2\n"
     ]
    },
    {
     "name": "stderr",
     "output_type": "stream",
     "text": [
      "WARNING:root:scikit-learn version 0.24.1 is not supported. Minimum required version: 0.17. Maximum required version: 0.19.2. Disabling scikit-learn conversion API.\n",
      "WARNING:root:TensorFlow version 2.5.0-rc1 detected. Last version known to be fully compatible is 2.3.1 .\n",
      "WARNING:root:Keras version 2.5.0 detected. Last version known to be fully compatible of Keras is 2.2.4 .\n"
     ]
    }
   ],
   "source": [
    "print(\"Hello jupyter!\")\n",
    "\n",
    "import matplotlib.pyplot as plt\n",
    "import numpy as np\n",
    "import pandas as pd\n",
    "import tensorflow as tf\n",
    "import random\n",
    "import tensorflow.keras\n",
    "import coremltools\n",
    "# import keras\n",
    "\n",
    "from sklearn.metrics import accuracy_score, precision_score, recall_score\n",
    "from sklearn.model_selection import train_test_split\n",
    "from tensorflow.keras import layers, losses\n",
    "from tensorflow.keras.datasets import fashion_mnist\n",
    "from tensorflow.keras.models import Model"
   ]
  },
  {
   "cell_type": "code",
   "execution_count": 2,
   "id": "7c3e78b8",
   "metadata": {},
   "outputs": [
    {
     "name": "stdout",
     "output_type": "stream",
     "text": [
      "128790\n"
     ]
    },
    {
     "data": {
      "text/html": [
       "<div>\n",
       "<style scoped>\n",
       "    .dataframe tbody tr th:only-of-type {\n",
       "        vertical-align: middle;\n",
       "    }\n",
       "\n",
       "    .dataframe tbody tr th {\n",
       "        vertical-align: top;\n",
       "    }\n",
       "\n",
       "    .dataframe thead th {\n",
       "        text-align: right;\n",
       "    }\n",
       "</style>\n",
       "<table border=\"1\" class=\"dataframe\">\n",
       "  <thead>\n",
       "    <tr style=\"text-align: right;\">\n",
       "      <th></th>\n",
       "      <th>0</th>\n",
       "      <th>1</th>\n",
       "      <th>2</th>\n",
       "      <th>3</th>\n",
       "      <th>4</th>\n",
       "      <th>5</th>\n",
       "      <th>6</th>\n",
       "      <th>7</th>\n",
       "      <th>8</th>\n",
       "      <th>9</th>\n",
       "      <th>...</th>\n",
       "      <th>130</th>\n",
       "      <th>131</th>\n",
       "      <th>132</th>\n",
       "      <th>133</th>\n",
       "      <th>134</th>\n",
       "      <th>135</th>\n",
       "      <th>136</th>\n",
       "      <th>137</th>\n",
       "      <th>138</th>\n",
       "      <th>139</th>\n",
       "    </tr>\n",
       "  </thead>\n",
       "  <tbody>\n",
       "    <tr>\n",
       "      <th>0</th>\n",
       "      <td>1.0</td>\n",
       "      <td>0.927143</td>\n",
       "      <td>0.722857</td>\n",
       "      <td>0.498571</td>\n",
       "      <td>0.262857</td>\n",
       "      <td>0.065714</td>\n",
       "      <td>0.000000</td>\n",
       "      <td>0.030000</td>\n",
       "      <td>0.060000</td>\n",
       "      <td>0.065714</td>\n",
       "      <td>...</td>\n",
       "      <td>0.131429</td>\n",
       "      <td>0.128571</td>\n",
       "      <td>0.137143</td>\n",
       "      <td>0.142857</td>\n",
       "      <td>0.140000</td>\n",
       "      <td>0.142857</td>\n",
       "      <td>0.211429</td>\n",
       "      <td>0.375714</td>\n",
       "      <td>0.622857</td>\n",
       "      <td>0.898571</td>\n",
       "    </tr>\n",
       "    <tr>\n",
       "      <th>1</th>\n",
       "      <td>1.0</td>\n",
       "      <td>0.867470</td>\n",
       "      <td>0.551205</td>\n",
       "      <td>0.182229</td>\n",
       "      <td>0.024096</td>\n",
       "      <td>0.055723</td>\n",
       "      <td>0.039157</td>\n",
       "      <td>0.006024</td>\n",
       "      <td>0.006024</td>\n",
       "      <td>0.004518</td>\n",
       "      <td>...</td>\n",
       "      <td>0.060241</td>\n",
       "      <td>0.057229</td>\n",
       "      <td>0.057229</td>\n",
       "      <td>0.060241</td>\n",
       "      <td>0.063253</td>\n",
       "      <td>0.078313</td>\n",
       "      <td>0.135542</td>\n",
       "      <td>0.278614</td>\n",
       "      <td>0.496988</td>\n",
       "      <td>0.801205</td>\n",
       "    </tr>\n",
       "    <tr>\n",
       "      <th>2</th>\n",
       "      <td>1.0</td>\n",
       "      <td>0.673517</td>\n",
       "      <td>0.169393</td>\n",
       "      <td>0.000000</td>\n",
       "      <td>0.042973</td>\n",
       "      <td>0.084825</td>\n",
       "      <td>0.087659</td>\n",
       "      <td>0.090533</td>\n",
       "      <td>0.074627</td>\n",
       "      <td>0.091872</td>\n",
       "      <td>...</td>\n",
       "      <td>0.161204</td>\n",
       "      <td>0.131341</td>\n",
       "      <td>0.118093</td>\n",
       "      <td>0.112857</td>\n",
       "      <td>0.156913</td>\n",
       "      <td>0.167700</td>\n",
       "      <td>0.164865</td>\n",
       "      <td>0.162188</td>\n",
       "      <td>0.248804</td>\n",
       "      <td>0.618280</td>\n",
       "    </tr>\n",
       "    <tr>\n",
       "      <th>3</th>\n",
       "      <td>1.0</td>\n",
       "      <td>0.881988</td>\n",
       "      <td>0.623851</td>\n",
       "      <td>0.373747</td>\n",
       "      <td>0.194203</td>\n",
       "      <td>0.057143</td>\n",
       "      <td>0.000000</td>\n",
       "      <td>0.008696</td>\n",
       "      <td>0.023188</td>\n",
       "      <td>0.025010</td>\n",
       "      <td>...</td>\n",
       "      <td>0.052174</td>\n",
       "      <td>0.057226</td>\n",
       "      <td>0.063437</td>\n",
       "      <td>0.069565</td>\n",
       "      <td>0.074865</td>\n",
       "      <td>0.134990</td>\n",
       "      <td>0.247371</td>\n",
       "      <td>0.416149</td>\n",
       "      <td>0.636190</td>\n",
       "      <td>0.867909</td>\n",
       "    </tr>\n",
       "    <tr>\n",
       "      <th>4</th>\n",
       "      <td>1.0</td>\n",
       "      <td>0.795209</td>\n",
       "      <td>0.565378</td>\n",
       "      <td>0.446569</td>\n",
       "      <td>0.202309</td>\n",
       "      <td>0.020710</td>\n",
       "      <td>0.000000</td>\n",
       "      <td>0.030493</td>\n",
       "      <td>0.034333</td>\n",
       "      <td>0.029856</td>\n",
       "      <td>...</td>\n",
       "      <td>0.085006</td>\n",
       "      <td>0.082417</td>\n",
       "      <td>0.070662</td>\n",
       "      <td>0.067182</td>\n",
       "      <td>0.067182</td>\n",
       "      <td>0.071319</td>\n",
       "      <td>0.107839</td>\n",
       "      <td>0.239910</td>\n",
       "      <td>0.457073</td>\n",
       "      <td>0.750562</td>\n",
       "    </tr>\n",
       "  </tbody>\n",
       "</table>\n",
       "<p>5 rows × 140 columns</p>\n",
       "</div>"
      ],
      "text/plain": [
       "     0         1         2         3         4         5         6         7  \\\n",
       "0  1.0  0.927143  0.722857  0.498571  0.262857  0.065714  0.000000  0.030000   \n",
       "1  1.0  0.867470  0.551205  0.182229  0.024096  0.055723  0.039157  0.006024   \n",
       "2  1.0  0.673517  0.169393  0.000000  0.042973  0.084825  0.087659  0.090533   \n",
       "3  1.0  0.881988  0.623851  0.373747  0.194203  0.057143  0.000000  0.008696   \n",
       "4  1.0  0.795209  0.565378  0.446569  0.202309  0.020710  0.000000  0.030493   \n",
       "\n",
       "          8         9  ...       130       131       132       133       134  \\\n",
       "0  0.060000  0.065714  ...  0.131429  0.128571  0.137143  0.142857  0.140000   \n",
       "1  0.006024  0.004518  ...  0.060241  0.057229  0.057229  0.060241  0.063253   \n",
       "2  0.074627  0.091872  ...  0.161204  0.131341  0.118093  0.112857  0.156913   \n",
       "3  0.023188  0.025010  ...  0.052174  0.057226  0.063437  0.069565  0.074865   \n",
       "4  0.034333  0.029856  ...  0.085006  0.082417  0.070662  0.067182  0.067182   \n",
       "\n",
       "        135       136       137       138       139  \n",
       "0  0.142857  0.211429  0.375714  0.622857  0.898571  \n",
       "1  0.078313  0.135542  0.278614  0.496988  0.801205  \n",
       "2  0.167700  0.164865  0.162188  0.248804  0.618280  \n",
       "3  0.134990  0.247371  0.416149  0.636190  0.867909  \n",
       "4  0.071319  0.107839  0.239910  0.457073  0.750562  \n",
       "\n",
       "[5 rows x 140 columns]"
      ]
     },
     "execution_count": 2,
     "metadata": {},
     "output_type": "execute_result"
    }
   ],
   "source": [
    "# Import the dataset and process it\n",
    "\n",
    "dataframe = pd.read_csv(\"./fullDataset.csv\")\n",
    "dataframe = dataframe.drop(columns=['Unnamed: 0'])\n",
    "raw_data = dataframe.values\n",
    "dataframe.head()\n",
    "print(len(dataframe))\n",
    "# x_train,x_test,y_train,y_test=train_test_split(raw_data,y,test_size=0.2)\n",
    "\n",
    "# Import evaluation dataset\n",
    "\n",
    "evaluation = pd.read_csv(\"./testCadDataset.csv\")\n",
    "evaluation = evaluation.drop(columns=['Unnamed: 0'])\n",
    "raw_data_evaluation = evaluation.values\n",
    "evaluation.head()"
   ]
  },
  {
   "cell_type": "code",
   "execution_count": 3,
   "id": "f3a00579",
   "metadata": {},
   "outputs": [
    {
     "name": "stdout",
     "output_type": "stream",
     "text": [
      "25758\n",
      "103032\n"
     ]
    }
   ],
   "source": [
    "full_length = len(raw_data)\n",
    "separation_full = np.arange((full_length))\n",
    "separation_full_list = separation_full.tolist()\n",
    "separation_train = random.sample(separation_full_list, int(0.8 * full_length))\n",
    "test = dataframe\n",
    "train = dataframe.iloc[separation_train,:]\n",
    "# test = dataframe.drop(dataframe.loc[separation_train,].index, inplace=True)\n",
    "# print(len(test))\n",
    "test.drop(dataframe.loc[separation_train,].index, inplace=True)\n",
    "print(len(test))\n",
    "print(len(train))\n"
   ]
  },
  {
   "cell_type": "code",
   "execution_count": 4,
   "id": "576ea7f7",
   "metadata": {},
   "outputs": [
    {
     "data": {
      "image/png": "[encoded data removed]",
      "text/plain": [
       "<Figure size 432x288 with 1 Axes>"
      ]
     },
     "metadata": {
      "needs_background": "light"
     },
     "output_type": "display_data"
    }
   ],
   "source": [
    "plt.grid()\n",
    "plt.plot(np.arange(140), raw_data[0,:])\n",
    "plt.title(\"A Normal ECG\")\n",
    "plt.show()"
   ]
  },
  {
   "cell_type": "code",
   "execution_count": 5,
   "id": "b148ad64",
   "metadata": {},
   "outputs": [],
   "source": [
    "# Build the model\n",
    "class AnomalyDetector(Model):\n",
    "  def __init__(self):\n",
    "    super(AnomalyDetector, self).__init__()\n",
    "    self.encoder = tf.keras.Sequential([\n",
    "      layers.Dense(32, activation=\"relu\"),\n",
    "      layers.Dense(16, activation=\"relu\"),\n",
    "      layers.Dense(8, activation=\"relu\")])\n",
    "\n",
    "    self.decoder = tf.keras.Sequential([\n",
    "      layers.Dense(16, activation=\"relu\"),\n",
    "      layers.Dense(32, activation=\"relu\"),\n",
    "      layers.Dense(140, activation=\"sigmoid\")])\n",
    "\n",
    "  def call(self, x):\n",
    "    encoded = self.encoder(x)\n",
    "    decoded = self.decoder(encoded)\n",
    "    return decoded\n",
    "\n",
    "autoencoder = AnomalyDetector()\n",
    "autoencoder.compile(optimizer='adam', loss='mae')"
   ]
  },
  {
   "cell_type": "code",
   "execution_count": 6,
   "id": "ecccd167",
   "metadata": {},
   "outputs": [
    {
     "name": "stdout",
     "output_type": "stream",
     "text": [
      "Epoch 1/20\n",
      "202/202 [==============================] - 7s 4ms/step - loss: 0.1681 - val_loss: 0.0449\n",
      "Epoch 2/20\n",
      "202/202 [==============================] - 1s 3ms/step - loss: 0.0425 - val_loss: 0.0361\n",
      "Epoch 3/20\n",
      "202/202 [==============================] - 1s 3ms/step - loss: 0.0319 - val_loss: 0.0265\n",
      "Epoch 4/20\n",
      "202/202 [==============================] - 1s 3ms/step - loss: 0.0261 - val_loss: 0.0251\n",
      "Epoch 5/20\n",
      "202/202 [==============================] - 1s 3ms/step - loss: 0.0249 - val_loss: 0.0244\n",
      "Epoch 6/20\n",
      "202/202 [==============================] - 1s 3ms/step - loss: 0.0242 - val_loss: 0.0238\n",
      "Epoch 7/20\n",
      "202/202 [==============================] - 1s 3ms/step - loss: 0.0238 - val_loss: 0.0234\n",
      "Epoch 8/20\n",
      "202/202 [==============================] - 1s 3ms/step - loss: 0.0233 - val_loss: 0.0231\n",
      "Epoch 9/20\n",
      "202/202 [==============================] - 1s 3ms/step - loss: 0.0228 - val_loss: 0.0222\n",
      "Epoch 10/20\n",
      "202/202 [==============================] - 1s 3ms/step - loss: 0.0218 - val_loss: 0.0213\n",
      "Epoch 11/20\n",
      "202/202 [==============================] - 1s 3ms/step - loss: 0.0210 - val_loss: 0.0206\n",
      "Epoch 12/20\n",
      "202/202 [==============================] - 1s 3ms/step - loss: 0.0204 - val_loss: 0.0200\n",
      "Epoch 13/20\n",
      "202/202 [==============================] - 1s 3ms/step - loss: 0.0199 - val_loss: 0.0195\n",
      "Epoch 14/20\n",
      "202/202 [==============================] - 1s 3ms/step - loss: 0.0195 - val_loss: 0.0192\n",
      "Epoch 15/20\n",
      "202/202 [==============================] - 1s 3ms/step - loss: 0.0192 - val_loss: 0.0191\n",
      "Epoch 16/20\n",
      "202/202 [==============================] - 1s 4ms/step - loss: 0.0190 - val_loss: 0.0190\n",
      "Epoch 17/20\n",
      "202/202 [==============================] - 1s 4ms/step - loss: 0.0189 - val_loss: 0.0187\n",
      "Epoch 18/20\n",
      "202/202 [==============================] - 1s 4ms/step - loss: 0.0187 - val_loss: 0.0187\n",
      "Epoch 19/20\n",
      "202/202 [==============================] - 1s 3ms/step - loss: 0.0186 - val_loss: 0.0185\n",
      "Epoch 20/20\n",
      "202/202 [==============================] - 1s 3ms/step - loss: 0.0185 - val_loss: 0.0186\n"
     ]
    }
   ],
   "source": [
    "# Train the model\n",
    "history = autoencoder.fit(train, train, \n",
    "          epochs=20, \n",
    "          batch_size=512,\n",
    "          validation_data=(test, test),\n",
    "          shuffle=True)\n"
   ]
  },
  {
   "cell_type": "code",
   "execution_count": 8,
   "id": "f34fb429",
   "metadata": {},
   "outputs": [
    {
     "name": "stdout",
     "output_type": "stream",
     "text": [
      "<class 'numpy.ndarray'>\n",
      "(128790, 140)\n"
     ]
    },
    {
     "data": {
      "image/png": "[encoded data removed]",
      "text/plain": [
       "<Figure size 432x288 with 1 Axes>"
      ]
     },
     "metadata": {
      "needs_background": "light"
     },
     "output_type": "display_data"
    },
    {
     "name": "stdout",
     "output_type": "stream",
     "text": [
      "tf.Tensor(0.02353019610881556, shape=(), dtype=float64)\n",
      "<class '__main__.AnomalyDetector'>\n"
     ]
    }
   ],
   "source": [
    "# Plot a normal example:\n",
    "print(type(raw_data))\n",
    "print(raw_data.shape)\n",
    "\n",
    "encoded_imgs = autoencoder.encoder(raw_data).numpy()\n",
    "decoded_imgs = autoencoder.decoder(encoded_imgs).numpy()\n",
    "index = 15200\n",
    "plt.plot(raw_data[index], 'b')\n",
    "plt.plot(decoded_imgs[index], 'r')\n",
    "plt.fill_between(np.arange(140), decoded_imgs[index], raw_data[index], color='lightcoral')\n",
    "plt.legend(labels=[\"Input\", \"Reconstruction\", \"Error\"])\n",
    "plt.show()\n",
    "train_loss1 = tf.keras.losses.mae(decoded_imgs[index], raw_data[index])\n",
    "print(train_loss1)\n",
    "print(type(autoencoder))\n"
   ]
  },
  {
   "cell_type": "code",
   "execution_count": 7,
   "id": "a34f3b0a",
   "metadata": {},
   "outputs": [
    {
     "name": "stdout",
     "output_type": "stream",
     "text": [
      "Threshold:  0.04304970990934394\n"
     ]
    },
    {
     "data": {
      "image/png": "[encoded data removed]",
      "text/plain": [
       "<Figure size 432x288 with 1 Axes>"
      ]
     },
     "metadata": {
      "needs_background": "light"
     },
     "output_type": "display_data"
    },
    {
     "data": {
      "image/png": "[encoded data removed]",
      "text/plain": [
       "<Figure size 432x288 with 1 Axes>"
      ]
     },
     "metadata": {
      "needs_background": "light"
     },
     "output_type": "display_data"
    }
   ],
   "source": [
    "# Plot the reconstruction error on normal data\n",
    "\n",
    "reconstructions = autoencoder.predict(raw_data)\n",
    "train_loss = tf.keras.losses.mae(reconstructions, raw_data).numpy()\n",
    "\n",
    "threshold = np.mean(train_loss) + 2.5*np.std(train_loss)\n",
    "print(\"Threshold: \", threshold)\n",
    "\n",
    "plt.hist(train_loss, bins=100)\n",
    "plt.xlabel(\"Train loss\")\n",
    "plt.ylabel(\"No of examples\")\n",
    "plt.vlines(x=threshold, ymin=0, ymax=20000, colors='black')\n",
    "plt.show()\n",
    "\n",
    "\n",
    "reconstructions = autoencoder.predict(raw_data_evaluation)\n",
    "train_loss = tf.keras.losses.mae(reconstructions, raw_data_evaluation).numpy()\n",
    "\n",
    "# threshold = np.mean(train_loss) + 1.5*np.std(train_loss)\n",
    "# print(\"Threshold: \", threshold)\n",
    "\n",
    "plt.hist(train_loss, bins=100)\n",
    "plt.xlabel(\"Test loss\")\n",
    "plt.ylabel(\"No of examples\")\n",
    "plt.vlines(x=threshold, ymin=0, ymax=2400, colors='black')\n",
    "plt.show()"
   ]
  },
  {
   "cell_type": "code",
   "execution_count": null,
   "id": "04a223f7",
   "metadata": {},
   "outputs": [],
   "source": [
    "# Plot an anomalous #example:\n",
    "\n",
    "encoded_imgs = autoencoder.encoder(anomalous_test_data).numpy()\n",
    "decoded_imgs = autoencoder.decoder(encoded_imgs).numpy()\n",
    "\n",
    "test_ind = 10\n",
    "plt.plot(anomalous_test_data[test_ind], 'b')\n",
    "plt.plot(decoded_imgs[test_ind], 'r')\n",
    "plt.fill_between(np.arange(140), decoded_imgs[test_ind], anomalous_test_data[test_ind], color='lightcoral')\n",
    "plt.legend(labels=[\"Input\", \"Reconstruction\", \"Error\"])\n",
    "plt.show()"
   ]
  },
  {
   "cell_type": "code",
   "execution_count": 11,
   "id": "b45a463c",
   "metadata": {},
   "outputs": [
    {
     "ename": "NameError",
     "evalue": "name 'test_data' is not defined",
     "output_type": "error",
     "traceback": [
      "\u001b[0;31m---------------------------------------------------------------------------\u001b[0m",
      "\u001b[0;31mNameError\u001b[0m                                 Traceback (most recent call last)",
      "\u001b[0;32m<ipython-input-11-feb52740d1b6>\u001b[0m in \u001b[0;36m<module>\u001b[0;34m\u001b[0m\n\u001b[1;32m     10\u001b[0m \u001b[0;34m\u001b[0m\u001b[0m\n\u001b[1;32m     11\u001b[0m \u001b[0;34m\u001b[0m\u001b[0m\n\u001b[0;32m---> 12\u001b[0;31m \u001b[0mpreds\u001b[0m \u001b[0;34m=\u001b[0m \u001b[0mpredict\u001b[0m\u001b[0;34m(\u001b[0m\u001b[0mautoencoder\u001b[0m\u001b[0;34m,\u001b[0m \u001b[0mtest_data\u001b[0m\u001b[0;34m,\u001b[0m \u001b[0mthreshold\u001b[0m\u001b[0;34m)\u001b[0m\u001b[0;34m\u001b[0m\u001b[0;34m\u001b[0m\u001b[0m\n\u001b[0m\u001b[1;32m     13\u001b[0m \u001b[0mprint_stats\u001b[0m\u001b[0;34m(\u001b[0m\u001b[0mpreds\u001b[0m\u001b[0;34m,\u001b[0m \u001b[0mtest_labels\u001b[0m\u001b[0;34m)\u001b[0m\u001b[0;34m\u001b[0m\u001b[0;34m\u001b[0m\u001b[0m\n",
      "\u001b[0;31mNameError\u001b[0m: name 'test_data' is not defined"
     ]
    }
   ],
   "source": [
    "def predict(model, data, threshold):\n",
    "  reconstructions = model(data)\n",
    "  loss = tf.keras.losses.mae(reconstructions, data)\n",
    "  return tf.math.less(loss, threshold)\n",
    "\n",
    "def print_stats(predictions, labels):\n",
    "  print(\"Accuracy = {}\".format(accuracy_score(labels, preds)))\n",
    "  print(\"Precision = {}\".format(precision_score(labels, preds)))\n",
    "  print(\"Recall = {}\".format(recall_score(labels, preds)))\n",
    "\n",
    "\n",
    "preds = predict(autoencoder, test_data, threshold)\n",
    "print_stats(preds, test_labels)"
   ]
  },
  {
   "cell_type": "code",
   "execution_count": 3,
   "id": "4a43da47",
   "metadata": {},
   "outputs": [],
   "source": [
    "# Save and load the model\n",
    "\n",
    "# autoencoder.save(\"./autoencoder\")\n",
    "autoencoder = tensorflow.keras.models.load_model('./autoencoder')\n"
   ]
  },
  {
   "cell_type": "code",
   "execution_count": 4,
   "id": "715f7a83",
   "metadata": {},
   "outputs": [
    {
     "name": "stderr",
     "output_type": "stream",
     "text": [
      "Running TensorFlow Graph Passes: 100%|██████████| 5/5 [00:00<00:00, 45.64 passes/s]\n",
      "Converting Frontend ==> MIL Ops: 100%|██████████| 32/32 [00:00<00:00, 6059.22 ops/s]\n",
      "Running MIL optimization passes: 100%|██████████| 18/18 [00:00<00:00, 1671.96 passes/s]\n",
      "Translating MIL ==> MLModel Ops: 100%|██████████| 24/24 [00:00<00:00, 12062.71 ops/s]\n"
     ]
    }
   ],
   "source": [
    "mlmodel = coremltools.convert(autoencoder)"
   ]
  },
  {
   "cell_type": "code",
   "execution_count": 5,
   "id": "4085c294",
   "metadata": {},
   "outputs": [],
   "source": [
    "mlmodel.save('./checkRRfinal.mlmodel')"
   ]
  },
  {
   "cell_type": "code",
   "execution_count": null,
   "id": "5b4711b4",
   "metadata": {},
   "outputs": [],
   "source": []
  }
 ],
 "metadata": {
  "kernelspec": {
   "display_name": "Python 3",
   "language": "python",
   "name": "python3"
  },
  "language_info": {
   "codemirror_mode": {
    "name": "ipython",
    "version": 3
   },
   "file_extension": ".py",
   "mimetype": "text/x-python",
   "name": "python",
   "nbconvert_exporter": "python",
   "pygments_lexer": "ipython3",
   "version": "3.9.2"
  }
 },
 "nbformat": 4,
 "nbformat_minor": 5
}
