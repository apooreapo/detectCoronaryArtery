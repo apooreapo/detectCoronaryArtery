{
 "cells": [
  {
   "cell_type": "code",
   "execution_count": 1,
   "id": "a08bc173",
   "metadata": {},
   "outputs": [
    {
     "name": "stdout",
     "output_type": "stream",
     "text": [
      "Hello jupyter!\n"
     ]
    }
   ],
   "source": [
    "print(\"Hello jupyter!\")"
   ]
  },
  {
   "cell_type": "code",
   "execution_count": 2,
   "id": "c7203308",
   "metadata": {},
   "outputs": [
    {
     "name": "stdout",
     "output_type": "stream",
     "text": [
      "INFO:tensorflow:Enabling eager execution\n",
      "INFO:tensorflow:Enabling v2 tensorshape\n",
      "INFO:tensorflow:Enabling resource variables\n",
      "INFO:tensorflow:Enabling tensor equality\n",
      "INFO:tensorflow:Enabling control flow v2\n"
     ]
    }
   ],
   "source": [
    "import matplotlib.pyplot as plt\n",
    "import numpy as np\n",
    "import pandas as pd\n",
    "import tensorflow as tf\n",
    "\n",
    "from sklearn.metrics import accuracy_score, precision_score, recall_score\n",
    "from sklearn.model_selection import train_test_split\n",
    "from tensorflow.keras import layers, losses\n",
    "from tensorflow.keras.datasets import fashion_mnist\n",
    "from tensorflow.keras.models import Model"
   ]
  },
  {
   "cell_type": "code",
   "execution_count": 10,
   "id": "b45cbef0",
   "metadata": {},
   "outputs": [
    {
     "data": {
      "text/html": [
       "<div>\n",
       "<style scoped>\n",
       "    .dataframe tbody tr th:only-of-type {\n",
       "        vertical-align: middle;\n",
       "    }\n",
       "\n",
       "    .dataframe tbody tr th {\n",
       "        vertical-align: top;\n",
       "    }\n",
       "\n",
       "    .dataframe thead th {\n",
       "        text-align: right;\n",
       "    }\n",
       "</style>\n",
       "<table border=\"1\" class=\"dataframe\">\n",
       "  <thead>\n",
       "    <tr style=\"text-align: right;\">\n",
       "      <th></th>\n",
       "      <th>0</th>\n",
       "      <th>1</th>\n",
       "      <th>2</th>\n",
       "      <th>3</th>\n",
       "      <th>4</th>\n",
       "      <th>5</th>\n",
       "      <th>6</th>\n",
       "      <th>7</th>\n",
       "      <th>8</th>\n",
       "      <th>9</th>\n",
       "      <th>...</th>\n",
       "      <th>130</th>\n",
       "      <th>131</th>\n",
       "      <th>132</th>\n",
       "      <th>133</th>\n",
       "      <th>134</th>\n",
       "      <th>135</th>\n",
       "      <th>136</th>\n",
       "      <th>137</th>\n",
       "      <th>138</th>\n",
       "      <th>139</th>\n",
       "    </tr>\n",
       "  </thead>\n",
       "  <tbody>\n",
       "    <tr>\n",
       "      <th>0</th>\n",
       "      <td>0.794762</td>\n",
       "      <td>1.000000</td>\n",
       "      <td>0.840942</td>\n",
       "      <td>0.365378</td>\n",
       "      <td>0.000000</td>\n",
       "      <td>0.027210</td>\n",
       "      <td>0.136703</td>\n",
       "      <td>0.229776</td>\n",
       "      <td>0.291519</td>\n",
       "      <td>0.319606</td>\n",
       "      <td>...</td>\n",
       "      <td>0.292172</td>\n",
       "      <td>0.293538</td>\n",
       "      <td>0.295925</td>\n",
       "      <td>0.298311</td>\n",
       "      <td>0.300698</td>\n",
       "      <td>0.303084</td>\n",
       "      <td>0.292335</td>\n",
       "      <td>0.292090</td>\n",
       "      <td>0.400155</td>\n",
       "      <td>0.609146</td>\n",
       "    </tr>\n",
       "    <tr>\n",
       "      <th>1</th>\n",
       "      <td>0.991416</td>\n",
       "      <td>1.000000</td>\n",
       "      <td>0.575787</td>\n",
       "      <td>0.162458</td>\n",
       "      <td>0.000000</td>\n",
       "      <td>0.096570</td>\n",
       "      <td>0.178795</td>\n",
       "      <td>0.251411</td>\n",
       "      <td>0.306163</td>\n",
       "      <td>0.337870</td>\n",
       "      <td>...</td>\n",
       "      <td>0.304114</td>\n",
       "      <td>0.306260</td>\n",
       "      <td>0.306627</td>\n",
       "      <td>0.311499</td>\n",
       "      <td>0.316797</td>\n",
       "      <td>0.314168</td>\n",
       "      <td>0.301291</td>\n",
       "      <td>0.318692</td>\n",
       "      <td>0.465548</td>\n",
       "      <td>0.655788</td>\n",
       "    </tr>\n",
       "    <tr>\n",
       "      <th>2</th>\n",
       "      <td>1.000000</td>\n",
       "      <td>0.939139</td>\n",
       "      <td>0.422541</td>\n",
       "      <td>0.025000</td>\n",
       "      <td>0.000000</td>\n",
       "      <td>0.085656</td>\n",
       "      <td>0.163115</td>\n",
       "      <td>0.231148</td>\n",
       "      <td>0.281967</td>\n",
       "      <td>0.309426</td>\n",
       "      <td>...</td>\n",
       "      <td>0.250820</td>\n",
       "      <td>0.248566</td>\n",
       "      <td>0.250410</td>\n",
       "      <td>0.254098</td>\n",
       "      <td>0.257787</td>\n",
       "      <td>0.259836</td>\n",
       "      <td>0.259836</td>\n",
       "      <td>0.250615</td>\n",
       "      <td>0.265164</td>\n",
       "      <td>0.291393</td>\n",
       "    </tr>\n",
       "    <tr>\n",
       "      <th>3</th>\n",
       "      <td>0.726742</td>\n",
       "      <td>0.998497</td>\n",
       "      <td>1.000000</td>\n",
       "      <td>0.570140</td>\n",
       "      <td>0.052659</td>\n",
       "      <td>0.000000</td>\n",
       "      <td>0.112619</td>\n",
       "      <td>0.208401</td>\n",
       "      <td>0.276694</td>\n",
       "      <td>0.317713</td>\n",
       "      <td>...</td>\n",
       "      <td>0.284769</td>\n",
       "      <td>0.288807</td>\n",
       "      <td>0.289322</td>\n",
       "      <td>0.289580</td>\n",
       "      <td>0.294133</td>\n",
       "      <td>0.296581</td>\n",
       "      <td>0.290095</td>\n",
       "      <td>0.282751</td>\n",
       "      <td>0.359162</td>\n",
       "      <td>0.495232</td>\n",
       "    </tr>\n",
       "    <tr>\n",
       "      <th>4</th>\n",
       "      <td>0.923819</td>\n",
       "      <td>1.000000</td>\n",
       "      <td>0.581141</td>\n",
       "      <td>0.160807</td>\n",
       "      <td>0.000000</td>\n",
       "      <td>0.099391</td>\n",
       "      <td>0.193228</td>\n",
       "      <td>0.271650</td>\n",
       "      <td>0.316979</td>\n",
       "      <td>0.335497</td>\n",
       "      <td>...</td>\n",
       "      <td>0.303535</td>\n",
       "      <td>0.304493</td>\n",
       "      <td>0.305335</td>\n",
       "      <td>0.307576</td>\n",
       "      <td>0.309817</td>\n",
       "      <td>0.312057</td>\n",
       "      <td>0.310774</td>\n",
       "      <td>0.301927</td>\n",
       "      <td>0.335172</td>\n",
       "      <td>0.419779</td>\n",
       "    </tr>\n",
       "  </tbody>\n",
       "</table>\n",
       "<p>5 rows × 140 columns</p>\n",
       "</div>"
      ],
      "text/plain": [
       "          0         1         2         3         4         5         6  \\\n",
       "0  0.794762  1.000000  0.840942  0.365378  0.000000  0.027210  0.136703   \n",
       "1  0.991416  1.000000  0.575787  0.162458  0.000000  0.096570  0.178795   \n",
       "2  1.000000  0.939139  0.422541  0.025000  0.000000  0.085656  0.163115   \n",
       "3  0.726742  0.998497  1.000000  0.570140  0.052659  0.000000  0.112619   \n",
       "4  0.923819  1.000000  0.581141  0.160807  0.000000  0.099391  0.193228   \n",
       "\n",
       "          7         8         9  ...       130       131       132       133  \\\n",
       "0  0.229776  0.291519  0.319606  ...  0.292172  0.293538  0.295925  0.298311   \n",
       "1  0.251411  0.306163  0.337870  ...  0.304114  0.306260  0.306627  0.311499   \n",
       "2  0.231148  0.281967  0.309426  ...  0.250820  0.248566  0.250410  0.254098   \n",
       "3  0.208401  0.276694  0.317713  ...  0.284769  0.288807  0.289322  0.289580   \n",
       "4  0.271650  0.316979  0.335497  ...  0.303535  0.304493  0.305335  0.307576   \n",
       "\n",
       "        134       135       136       137       138       139  \n",
       "0  0.300698  0.303084  0.292335  0.292090  0.400155  0.609146  \n",
       "1  0.316797  0.314168  0.301291  0.318692  0.465548  0.655788  \n",
       "2  0.257787  0.259836  0.259836  0.250615  0.265164  0.291393  \n",
       "3  0.294133  0.296581  0.290095  0.282751  0.359162  0.495232  \n",
       "4  0.309817  0.312057  0.310774  0.301927  0.335172  0.419779  \n",
       "\n",
       "[5 rows x 140 columns]"
      ]
     },
     "execution_count": 10,
     "metadata": {},
     "output_type": "execute_result"
    }
   ],
   "source": [
    "# Download the dataset\n",
    "# dataframe = pd.read_csv('http://storage.googleapis.com/download.tensorflow.org/data/ecg.csv', header=None)\n",
    "dataframe = pd.read_csv(\"./testDataset.csv\")\n",
    "dataframe = dataframe.drop(columns=['Unnamed: 0'])\n",
    "raw_data = dataframe.values\n",
    "dataframe.head()\n"
   ]
  },
  {
   "cell_type": "code",
   "execution_count": 6,
   "id": "a31c3862",
   "metadata": {},
   "outputs": [],
   "source": [
    "# The last element contains the labels\n",
    "labels = raw_data[:, -1]\n",
    "\n",
    "# The other data points are the electrocadriogram data\n",
    "data = raw_data[:, 0:-1]\n",
    "\n",
    "train_data, test_data, train_labels, test_labels = train_test_split(\n",
    "    data, labels, test_size=0.2, random_state=21\n",
    ")\n",
    "\n"
   ]
  },
  {
   "cell_type": "code",
   "execution_count": 8,
   "id": "0d366f29",
   "metadata": {},
   "outputs": [],
   "source": [
    "min_val = tf.reduce_min(train_data)\n",
    "max_val = tf.reduce_max(train_data)\n",
    "\n",
    "train_data = (train_data - min_val) / (max_val - min_val)\n",
    "test_data = (test_data - min_val) / (max_val - min_val)\n",
    "\n",
    "train_data = tf.cast(train_data, tf.float32)\n",
    "test_data = tf.cast(test_data, tf.float32)\n"
   ]
  },
  {
   "cell_type": "code",
   "execution_count": 9,
   "id": "fd6bcdb9",
   "metadata": {},
   "outputs": [],
   "source": [
    "train_labels = train_labels.astype(bool)\n",
    "test_labels = test_labels.astype(bool)\n",
    "\n",
    "normal_train_data = train_data[train_labels]\n",
    "normal_test_data = test_data[test_labels]\n",
    "\n",
    "anomalous_train_data = train_data[~train_labels]\n",
    "anomalous_test_data = test_data[~test_labels]\n"
   ]
  },
  {
   "cell_type": "code",
   "execution_count": 11,
   "id": "1796742b",
   "metadata": {},
   "outputs": [
    {
     "name": "stdout",
     "output_type": "stream",
     "text": [
      "2359\n",
      "1639\n"
     ]
    }
   ],
   "source": [
    "print(len(normal_train_data))\n",
    "print(len(anomalous_train_data))"
   ]
  },
  {
   "cell_type": "code",
   "execution_count": 12,
   "id": "d66ce36f",
   "metadata": {},
   "outputs": [
    {
     "data": {
      "image/png": "[encoded data removed]",
      "text/plain": [
       "<Figure size 432x288 with 1 Axes>"
      ]
     },
     "metadata": {
      "needs_background": "light"
     },
     "output_type": "display_data"
    }
   ],
   "source": [
    "plt.grid()\n",
    "plt.plot(np.arange(140), normal_train_data[0])\n",
    "plt.title(\"A Normal ECG\")\n",
    "plt.show()"
   ]
  },
  {
   "cell_type": "code",
   "execution_count": 14,
   "id": "33a79807",
   "metadata": {},
   "outputs": [],
   "source": [
    "# Build the model\n",
    "class AnomalyDetector(Model):\n",
    "  def __init__(self):\n",
    "    super(AnomalyDetector, self).__init__()\n",
    "    self.encoder = tf.keras.Sequential([\n",
    "      layers.Dense(32, activation=\"relu\"),\n",
    "      layers.Dense(16, activation=\"relu\"),\n",
    "      layers.Dense(8, activation=\"relu\")])\n",
    "\n",
    "    self.decoder = tf.keras.Sequential([\n",
    "      layers.Dense(16, activation=\"relu\"),\n",
    "      layers.Dense(32, activation=\"relu\"),\n",
    "      layers.Dense(140, activation=\"sigmoid\")])\n",
    "\n",
    "  def call(self, x):\n",
    "    encoded = self.encoder(x)\n",
    "    decoded = self.decoder(encoded)\n",
    "    return decoded\n",
    "\n",
    "autoencoder = AnomalyDetector()\n",
    "autoencoder.compile(optimizer='adam', loss='mae')\n",
    "\n"
   ]
  },
  {
   "cell_type": "code",
   "execution_count": 15,
   "id": "89ff0ced",
   "metadata": {},
   "outputs": [
    {
     "name": "stdout",
     "output_type": "stream",
     "text": [
      "Epoch 1/20\n",
      "5/5 [==============================] - 0s 28ms/step - loss: 0.0586 - val_loss: 0.0537\n",
      "Epoch 2/20\n",
      "5/5 [==============================] - 0s 7ms/step - loss: 0.0570 - val_loss: 0.0527\n",
      "Epoch 3/20\n",
      "5/5 [==============================] - 0s 7ms/step - loss: 0.0557 - val_loss: 0.0515\n",
      "Epoch 4/20\n",
      "5/5 [==============================] - 0s 8ms/step - loss: 0.0540 - val_loss: 0.0497\n",
      "Epoch 5/20\n",
      "5/5 [==============================] - 0s 8ms/step - loss: 0.0508 - val_loss: 0.0483\n",
      "Epoch 6/20\n",
      "5/5 [==============================] - 0s 8ms/step - loss: 0.0469 - val_loss: 0.0466\n",
      "Epoch 7/20\n",
      "5/5 [==============================] - 0s 8ms/step - loss: 0.0425 - val_loss: 0.0439\n",
      "Epoch 8/20\n",
      "5/5 [==============================] - 0s 8ms/step - loss: 0.0384 - val_loss: 0.0423\n",
      "Epoch 9/20\n",
      "5/5 [==============================] - 0s 7ms/step - loss: 0.0349 - val_loss: 0.0405\n",
      "Epoch 10/20\n",
      "5/5 [==============================] - 0s 7ms/step - loss: 0.0318 - val_loss: 0.0393\n",
      "Epoch 11/20\n",
      "5/5 [==============================] - 0s 8ms/step - loss: 0.0295 - val_loss: 0.0383\n",
      "Epoch 12/20\n",
      "5/5 [==============================] - 0s 8ms/step - loss: 0.0275 - val_loss: 0.0374\n",
      "Epoch 13/20\n",
      "5/5 [==============================] - 0s 7ms/step - loss: 0.0263 - val_loss: 0.0367\n",
      "Epoch 14/20\n",
      "5/5 [==============================] - 0s 8ms/step - loss: 0.0251 - val_loss: 0.0361\n",
      "Epoch 15/20\n",
      "5/5 [==============================] - 0s 8ms/step - loss: 0.0245 - val_loss: 0.0357\n",
      "Epoch 16/20\n",
      "5/5 [==============================] - 0s 8ms/step - loss: 0.0238 - val_loss: 0.0350\n",
      "Epoch 17/20\n",
      "5/5 [==============================] - 0s 8ms/step - loss: 0.0229 - val_loss: 0.0344\n",
      "Epoch 18/20\n",
      "5/5 [==============================] - 0s 9ms/step - loss: 0.0223 - val_loss: 0.0338\n",
      "Epoch 19/20\n",
      "5/5 [==============================] - 0s 8ms/step - loss: 0.0219 - val_loss: 0.0336\n",
      "Epoch 20/20\n",
      "5/5 [==============================] - 0s 7ms/step - loss: 0.0214 - val_loss: 0.0333\n"
     ]
    }
   ],
   "source": [
    "# Train the model\n",
    "history = autoencoder.fit(normal_train_data, normal_train_data, \n",
    "          epochs=20, \n",
    "          batch_size=512,\n",
    "          validation_data=(test_data, test_data),\n",
    "          shuffle=True)\n"
   ]
  },
  {
   "cell_type": "code",
   "execution_count": 16,
   "id": "ba7e8ebe",
   "metadata": {},
   "outputs": [
    {
     "data": {
      "text/plain": [
       "<matplotlib.legend.Legend at 0x7f9288f17d90>"
      ]
     },
     "execution_count": 16,
     "metadata": {},
     "output_type": "execute_result"
    },
    {
     "data": {
      "image/png": "[encoded data removed]",
      "text/plain": [
       "<Figure size 432x288 with 1 Axes>"
      ]
     },
     "metadata": {
      "needs_background": "light"
     },
     "output_type": "display_data"
    }
   ],
   "source": [
    "plt.plot(history.history[\"loss\"], label=\"Training Loss\")\n",
    "plt.plot(history.history[\"val_loss\"], label=\"Validation Loss\")\n",
    "plt.legend()"
   ]
  },
  {
   "cell_type": "code",
   "execution_count": 22,
   "id": "1bdfe59b",
   "metadata": {},
   "outputs": [
    {
     "data": {
      "image/png": "[encoded data removed]",
      "text/plain": [
       "<Figure size 432x288 with 1 Axes>"
      ]
     },
     "metadata": {
      "needs_background": "light"
     },
     "output_type": "display_data"
    }
   ],
   "source": [
    "# Plot an anomalous #example:\n",
    "\n",
    "encoded_imgs = autoencoder.encoder(anomalous_test_data).numpy()\n",
    "decoded_imgs = autoencoder.decoder(encoded_imgs).numpy()\n",
    "\n",
    "test_ind = 10\n",
    "plt.plot(anomalous_test_data[test_ind], 'b')\n",
    "plt.plot(decoded_imgs[test_ind], 'r')\n",
    "plt.fill_between(np.arange(140), decoded_imgs[test_ind], anomalous_test_data[test_ind], color='lightcoral')\n",
    "plt.legend(labels=[\"Input\", \"Reconstruction\", \"Error\"])\n",
    "plt.show()\n"
   ]
  },
  {
   "cell_type": "code",
   "execution_count": 24,
   "id": "817cc54c",
   "metadata": {},
   "outputs": [
    {
     "data": {
      "image/png": "[encoded data removed]",
      "text/plain": [
       "<Figure size 432x288 with 1 Axes>"
      ]
     },
     "metadata": {
      "needs_background": "light"
     },
     "output_type": "display_data"
    }
   ],
   "source": [
    "# Plot a normal example:\n",
    "\n",
    "encoded_imgs = autoencoder.encoder(normal_test_data).numpy()\n",
    "decoded_imgs = autoencoder.decoder(encoded_imgs).numpy()\n",
    "\n",
    "plt.plot(normal_test_data[5], 'b')\n",
    "plt.plot(decoded_imgs[5], 'r')\n",
    "plt.fill_between(np.arange(140), decoded_imgs[5], normal_test_data[5], color='lightcoral')\n",
    "plt.legend(labels=[\"Input\", \"Reconstruction\", \"Error\"])\n",
    "plt.show()\n"
   ]
  },
  {
   "cell_type": "code",
   "execution_count": 36,
   "id": "890e85d3",
   "metadata": {},
   "outputs": [
    {
     "data": {
      "image/png": "[encoded data removed]",
      "text/plain": [
       "<Figure size 432x288 with 1 Axes>"
      ]
     },
     "metadata": {
      "needs_background": "light"
     },
     "output_type": "display_data"
    }
   ],
   "source": [
    "# Plot the reconstruction error on normal data\n",
    "\n",
    "reconstructions = autoencoder.predict(normal_train_data)\n",
    "train_loss = tf.keras.losses.mae(reconstructions, normal_train_data).numpy()\n",
    "plt.hist(train_loss, bins=50)\n",
    "plt.xlabel(\"Train loss\")\n",
    "plt.ylabel(\"No of examples\")\n",
    "plt.show()\n"
   ]
  },
  {
   "cell_type": "code",
   "execution_count": 37,
   "id": "136bd263",
   "metadata": {},
   "outputs": [
    {
     "name": "stdout",
     "output_type": "stream",
     "text": [
      "Threshold:  0.03266422\n"
     ]
    }
   ],
   "source": [
    "threshold = np.mean(train_loss) + np.std(train_loss)\n",
    "print(\"Threshold: \", threshold)\n"
   ]
  },
  {
   "cell_type": "code",
   "execution_count": 38,
   "id": "3175dbdd",
   "metadata": {},
   "outputs": [
    {
     "data": {
      "image/png": "[encoded data removed]",
      "text/plain": [
       "<Figure size 432x288 with 1 Axes>"
      ]
     },
     "metadata": {
      "needs_background": "light"
     },
     "output_type": "display_data"
    }
   ],
   "source": [
    "reconstructions = autoencoder.predict(anomalous_test_data)\n",
    "test_loss = tf.keras.losses.mae(reconstructions, anomalous_test_data).numpy()\n",
    "\n",
    "plt.hist(test_loss, bins=50)\n",
    "plt.xlabel(\"Test loss\")\n",
    "plt.ylabel(\"No of examples\")\n",
    "plt.show()\n"
   ]
  },
  {
   "cell_type": "code",
   "execution_count": 39,
   "id": "84e0a52f",
   "metadata": {},
   "outputs": [],
   "source": [
    "def predict(model, data, threshold):\n",
    "  reconstructions = model(data)\n",
    "  loss = tf.keras.losses.mae(reconstructions, data)\n",
    "  return tf.math.less(loss, threshold)\n",
    "\n",
    "def print_stats(predictions, labels):\n",
    "  print(\"Accuracy = {}\".format(accuracy_score(labels, preds)))\n",
    "  print(\"Precision = {}\".format(precision_score(labels, preds)))\n",
    "  print(\"Recall = {}\".format(recall_score(labels, preds)))\n"
   ]
  },
  {
   "cell_type": "code",
   "execution_count": 40,
   "id": "13436cac",
   "metadata": {},
   "outputs": [
    {
     "name": "stdout",
     "output_type": "stream",
     "text": [
      "Accuracy = 0.942\n",
      "Precision = 0.9921568627450981\n",
      "Recall = 0.9035714285714286\n"
     ]
    }
   ],
   "source": [
    "preds = predict(autoencoder, test_data, threshold)\n",
    "print_stats(preds, test_labels)\n"
   ]
  },
  {
   "cell_type": "code",
   "execution_count": null,
   "id": "eeac5fd1",
   "metadata": {},
   "outputs": [],
   "source": []
  },
  {
   "cell_type": "code",
   "execution_count": null,
   "id": "29dc6816",
   "metadata": {},
   "outputs": [],
   "source": []
  }
 ],
 "metadata": {
  "kernelspec": {
   "display_name": "Python 3",
   "language": "python",
   "name": "python3"
  },
  "language_info": {
   "codemirror_mode": {
    "name": "ipython",
    "version": 3
   },
   "file_extension": ".py",
   "mimetype": "text/x-python",
   "name": "python",
   "nbconvert_exporter": "python",
   "pygments_lexer": "ipython3",
   "version": "3.9.2"
  }
 },
 "nbformat": 4,
 "nbformat_minor": 5
}
