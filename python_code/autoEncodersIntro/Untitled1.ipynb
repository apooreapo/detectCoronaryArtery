{
 "cells": [
  {
   "cell_type": "code",
   "execution_count": 1,
   "id": "a1c4c136",
   "metadata": {},
   "outputs": [
    {
     "name": "stdout",
     "output_type": "stream",
     "text": [
      "INFO:tensorflow:Enabling eager execution\n",
      "INFO:tensorflow:Enabling v2 tensorshape\n",
      "INFO:tensorflow:Enabling resource variables\n",
      "INFO:tensorflow:Enabling tensor equality\n",
      "INFO:tensorflow:Enabling control flow v2\n"
     ]
    },
    {
     "name": "stderr",
     "output_type": "stream",
     "text": [
      "WARNING:root:scikit-learn version 0.24.1 is not supported. Minimum required version: 0.17. Maximum required version: 0.19.2. Disabling scikit-learn conversion API.\n",
      "WARNING:root:TensorFlow version 2.5.0-rc1 detected. Last version known to be fully compatible is 2.3.1 .\n",
      "WARNING:root:Keras version 2.5.0 detected. Last version known to be fully compatible of Keras is 2.2.4 .\n"
     ]
    }
   ],
   "source": [
    "from keras import models\n",
    "from keras.layers import Dense, Dropout\n",
    "# from keras.utils import to_categorical\n",
    "from keras.datasets import mnist\n",
    "from keras.utils.vis_utils import model_to_dot\n",
    "import pandas as pd\n",
    "import numpy as np\n",
    "import random\n",
    "import matplotlib.pyplot as plt\n",
    "import coremltools as ct"
   ]
  },
  {
   "cell_type": "code",
   "execution_count": 30,
   "id": "9a489791",
   "metadata": {},
   "outputs": [],
   "source": [
    "model = models.Sequential()\n",
    "# del model"
   ]
  },
  {
   "cell_type": "code",
   "execution_count": 31,
   "id": "9d8f141c",
   "metadata": {},
   "outputs": [],
   "source": [
    "model.add(Dense(32, activation='relu'))\n",
    "model.add(Dense(16, activation='relu'))\n",
    "model.add(Dense(8, activation='relu'))\n",
    "model.add(Dense(16, activation='relu'))\n",
    "model.add(Dense(32, activation='relu'))\n",
    "model.add(Dense(140, activation='sigmoid'))"
   ]
  },
  {
   "cell_type": "code",
   "execution_count": 32,
   "id": "016ee78d",
   "metadata": {},
   "outputs": [
    {
     "name": "stdout",
     "output_type": "stream",
     "text": [
      "128790\n"
     ]
    }
   ],
   "source": [
    "dataframe = pd.read_csv(\"../autoEncodersIntro/fullDataset.csv\")\n",
    "dataframe = dataframe.drop(columns=['Unnamed: 0'])\n",
    "raw_data = dataframe.values\n",
    "dataframe.head()\n",
    "print(len(dataframe))"
   ]
  },
  {
   "cell_type": "code",
   "execution_count": 33,
   "id": "2ab4dd39",
   "metadata": {},
   "outputs": [
    {
     "name": "stdout",
     "output_type": "stream",
     "text": [
      "25758\n",
      "103032\n"
     ]
    }
   ],
   "source": [
    "full_length = len(raw_data)\n",
    "separation_full = np.arange((full_length))\n",
    "separation_full_list = separation_full.tolist()\n",
    "separation_train = random.sample(separation_full_list, int(0.8 * full_length))\n",
    "test = dataframe\n",
    "train = dataframe.iloc[separation_train,:]\n",
    "# test = dataframe.drop(dataframe.loc[separation_train,].index, inplace=True)\n",
    "# print(len(test))\n",
    "test.drop(dataframe.loc[separation_train,].index, inplace=True)\n",
    "print(len(test))\n",
    "print(len(train))\n"
   ]
  },
  {
   "cell_type": "code",
   "execution_count": 34,
   "id": "4bcb58cd",
   "metadata": {},
   "outputs": [
    {
     "data": {
      "image/png": "[encoded data removed]",
      "text/plain": [
       "<Figure size 432x288 with 1 Axes>"
      ]
     },
     "metadata": {
      "needs_background": "light"
     },
     "output_type": "display_data"
    }
   ],
   "source": [
    "plt.grid()\n",
    "plt.plot(np.arange(140), raw_data[0,:])\n",
    "plt.title(\"A Normal ECG\")\n",
    "plt.show()"
   ]
  },
  {
   "cell_type": "code",
   "execution_count": 35,
   "id": "9b54297c",
   "metadata": {},
   "outputs": [
    {
     "name": "stdout",
     "output_type": "stream",
     "text": [
      "<class 'keras.engine.sequential.Sequential'>\n"
     ]
    }
   ],
   "source": [
    "print(type(model))"
   ]
  },
  {
   "cell_type": "code",
   "execution_count": 36,
   "id": "168d2323",
   "metadata": {},
   "outputs": [],
   "source": [
    "model.compile(optimizer='adam', loss='mae')"
   ]
  },
  {
   "cell_type": "code",
   "execution_count": 37,
   "id": "b7b568ff",
   "metadata": {},
   "outputs": [
    {
     "name": "stdout",
     "output_type": "stream",
     "text": [
      "Epoch 1/20\n",
      "202/202 [==============================] - 2s 4ms/step - loss: 0.1651 - val_loss: 0.0443\n",
      "Epoch 2/20\n",
      "202/202 [==============================] - 1s 3ms/step - loss: 0.0425 - val_loss: 0.0378\n",
      "Epoch 3/20\n",
      "202/202 [==============================] - 1s 3ms/step - loss: 0.0365 - val_loss: 0.0309\n",
      "Epoch 4/20\n",
      "202/202 [==============================] - 1s 3ms/step - loss: 0.0286 - val_loss: 0.0261\n",
      "Epoch 5/20\n",
      "202/202 [==============================] - 1s 3ms/step - loss: 0.0257 - val_loss: 0.0250\n",
      "Epoch 6/20\n",
      "202/202 [==============================] - 1s 3ms/step - loss: 0.0247 - val_loss: 0.0241\n",
      "Epoch 7/20\n",
      "202/202 [==============================] - 1s 3ms/step - loss: 0.0239 - val_loss: 0.0239\n",
      "Epoch 8/20\n",
      "202/202 [==============================] - 1s 3ms/step - loss: 0.0234 - val_loss: 0.0228\n",
      "Epoch 9/20\n",
      "202/202 [==============================] - 1s 3ms/step - loss: 0.0227 - val_loss: 0.0223\n",
      "Epoch 10/20\n",
      "202/202 [==============================] - 1s 3ms/step - loss: 0.0224 - val_loss: 0.0221\n",
      "Epoch 11/20\n",
      "202/202 [==============================] - 1s 3ms/step - loss: 0.0220 - val_loss: 0.0218\n",
      "Epoch 12/20\n",
      "202/202 [==============================] - 1s 3ms/step - loss: 0.0218 - val_loss: 0.0216\n",
      "Epoch 13/20\n",
      "202/202 [==============================] - 1s 3ms/step - loss: 0.0214 - val_loss: 0.0213\n",
      "Epoch 14/20\n",
      "202/202 [==============================] - 1s 3ms/step - loss: 0.0212 - val_loss: 0.0208\n",
      "Epoch 15/20\n",
      "202/202 [==============================] - 1s 3ms/step - loss: 0.0208 - val_loss: 0.0204\n",
      "Epoch 16/20\n",
      "202/202 [==============================] - 1s 3ms/step - loss: 0.0203 - val_loss: 0.0200\n",
      "Epoch 17/20\n",
      "202/202 [==============================] - 1s 3ms/step - loss: 0.0198 - val_loss: 0.0197\n",
      "Epoch 18/20\n",
      "202/202 [==============================] - 1s 3ms/step - loss: 0.0195 - val_loss: 0.0192\n",
      "Epoch 19/20\n",
      "202/202 [==============================] - 1s 3ms/step - loss: 0.0191 - val_loss: 0.0189\n",
      "Epoch 20/20\n",
      "202/202 [==============================] - 1s 3ms/step - loss: 0.0188 - val_loss: 0.0186\n"
     ]
    }
   ],
   "source": [
    "# Train the model\n",
    "history = model.fit(train, train, \n",
    "          epochs=20, \n",
    "          batch_size=512,\n",
    "          validation_data=(test, test),\n",
    "          shuffle=True)"
   ]
  },
  {
   "cell_type": "code",
   "execution_count": 45,
   "id": "a474b577",
   "metadata": {},
   "outputs": [],
   "source": [
    "reconstructions = model.predict(raw_data)"
   ]
  },
  {
   "cell_type": "code",
   "execution_count": 46,
   "id": "d9ebb134",
   "metadata": {},
   "outputs": [
    {
     "data": {
      "image/png": "[encoded data removed]",
      "text/plain": [
       "<Figure size 432x288 with 1 Axes>"
      ]
     },
     "metadata": {
      "needs_background": "light"
     },
     "output_type": "display_data"
    }
   ],
   "source": [
    "index = 15200\n",
    "plt.plot(raw_data[index], 'b')\n",
    "plt.plot(reconstructions[index], 'r')\n",
    "plt.fill_between(np.arange(140), reconstructions[index], raw_data[index], color='lightcoral')\n",
    "plt.legend(labels=[\"Input\", \"Reconstruction\", \"Error\"])\n",
    "plt.show()"
   ]
  },
  {
   "cell_type": "code",
   "execution_count": 42,
   "id": "d6e532a5",
   "metadata": {},
   "outputs": [],
   "source": [
    "model.save(\"./test.h5\")"
   ]
  },
  {
   "cell_type": "code",
   "execution_count": 44,
   "id": "9f5f697f",
   "metadata": {},
   "outputs": [],
   "source": [
    "model2 = models.load_model(\"./test.h5\")"
   ]
  },
  {
   "cell_type": "code",
   "execution_count": 48,
   "id": "2418febf",
   "metadata": {},
   "outputs": [
    {
     "ename": "TypeError",
     "evalue": "'InputLayer' object is not iterable",
     "output_type": "error",
     "traceback": [
      "\u001b[0;31m---------------------------------------------------------------------------\u001b[0m",
      "\u001b[0;31mTypeError\u001b[0m                                 Traceback (most recent call last)",
      "\u001b[0;32m<ipython-input-48-55c6b0094180>\u001b[0m in \u001b[0;36m<module>\u001b[0;34m\u001b[0m\n\u001b[0;32m----> 1\u001b[0;31m \u001b[0mcoremltools\u001b[0m\u001b[0;34m.\u001b[0m\u001b[0mconverters\u001b[0m\u001b[0;34m.\u001b[0m\u001b[0mkeras\u001b[0m\u001b[0;34m.\u001b[0m\u001b[0mconvert\u001b[0m\u001b[0;34m(\u001b[0m\u001b[0mmodel2\u001b[0m\u001b[0;34m)\u001b[0m\u001b[0;34m\u001b[0m\u001b[0;34m\u001b[0m\u001b[0m\n\u001b[0m",
      "\u001b[0;32m~/Documents/Python Projects/diplomaThesis/autoEncodersIntro/venv/lib/python3.9/site-packages/coremltools/converters/keras/_keras_converter.py\u001b[0m in \u001b[0;36mconvert\u001b[0;34m(model, input_names, output_names, image_input_names, input_name_shape_dict, is_bgr, red_bias, green_bias, blue_bias, gray_bias, image_scale, class_labels, predicted_feature_name, model_precision, predicted_probabilities_output, add_custom_layers, custom_conversion_functions, input_shapes, output_shapes, respect_trainable, use_float_arraytype)\u001b[0m\n\u001b[1;32m    805\u001b[0m \u001b[0;34m\u001b[0m\u001b[0m\n\u001b[1;32m    806\u001b[0m     \"\"\"\n\u001b[0;32m--> 807\u001b[0;31m     spec = _convert_to_spec(\n\u001b[0m\u001b[1;32m    808\u001b[0m         \u001b[0mmodel\u001b[0m\u001b[0;34m,\u001b[0m\u001b[0;34m\u001b[0m\u001b[0;34m\u001b[0m\u001b[0m\n\u001b[1;32m    809\u001b[0m         \u001b[0minput_names\u001b[0m\u001b[0;34m=\u001b[0m\u001b[0minput_names\u001b[0m\u001b[0;34m,\u001b[0m\u001b[0;34m\u001b[0m\u001b[0;34m\u001b[0m\u001b[0m\n",
      "\u001b[0;32m~/Documents/Python Projects/diplomaThesis/autoEncodersIntro/venv/lib/python3.9/site-packages/coremltools/converters/keras/_keras_converter.py\u001b[0m in \u001b[0;36m_convert_to_spec\u001b[0;34m(model, input_names, output_names, image_input_names, input_name_shape_dict, is_bgr, red_bias, green_bias, blue_bias, gray_bias, image_scale, class_labels, predicted_feature_name, model_precision, predicted_probabilities_output, add_custom_layers, custom_conversion_functions, custom_objects, input_shapes, output_shapes, respect_trainable, use_float_arraytype)\u001b[0m\n\u001b[1;32m    582\u001b[0m         \u001b[0;32mfrom\u001b[0m \u001b[0;34m.\u001b[0m \u001b[0;32mimport\u001b[0m \u001b[0m_keras2_converter\u001b[0m\u001b[0;34m\u001b[0m\u001b[0;34m\u001b[0m\u001b[0m\n\u001b[1;32m    583\u001b[0m \u001b[0;34m\u001b[0m\u001b[0m\n\u001b[0;32m--> 584\u001b[0;31m         spec = _keras2_converter._convert(\n\u001b[0m\u001b[1;32m    585\u001b[0m             \u001b[0mmodel\u001b[0m\u001b[0;34m=\u001b[0m\u001b[0mmodel\u001b[0m\u001b[0;34m,\u001b[0m\u001b[0;34m\u001b[0m\u001b[0;34m\u001b[0m\u001b[0m\n\u001b[1;32m    586\u001b[0m             \u001b[0minput_names\u001b[0m\u001b[0;34m=\u001b[0m\u001b[0minput_names\u001b[0m\u001b[0;34m,\u001b[0m\u001b[0;34m\u001b[0m\u001b[0;34m\u001b[0m\u001b[0m\n",
      "\u001b[0;32m~/Documents/Python Projects/diplomaThesis/autoEncodersIntro/venv/lib/python3.9/site-packages/coremltools/converters/keras/_keras2_converter.py\u001b[0m in \u001b[0;36m_convert\u001b[0;34m(model, input_names, output_names, image_input_names, input_name_shape_dict, is_bgr, red_bias, green_bias, blue_bias, gray_bias, image_scale, class_labels, predicted_feature_name, predicted_probabilities_output, add_custom_layers, custom_conversion_functions, custom_objects, input_shapes, output_shapes, respect_trainable, use_float_arraytype)\u001b[0m\n\u001b[1;32m    359\u001b[0m     \u001b[0;31m# Build network graph to represent Keras model\u001b[0m\u001b[0;34m\u001b[0m\u001b[0;34m\u001b[0m\u001b[0;34m\u001b[0m\u001b[0m\n\u001b[1;32m    360\u001b[0m     \u001b[0mgraph\u001b[0m \u001b[0;34m=\u001b[0m \u001b[0m_topology2\u001b[0m\u001b[0;34m.\u001b[0m\u001b[0mNetGraph\u001b[0m\u001b[0;34m(\u001b[0m\u001b[0mmodel\u001b[0m\u001b[0;34m)\u001b[0m\u001b[0;34m\u001b[0m\u001b[0;34m\u001b[0m\u001b[0m\n\u001b[0;32m--> 361\u001b[0;31m     \u001b[0mgraph\u001b[0m\u001b[0;34m.\u001b[0m\u001b[0mbuild\u001b[0m\u001b[0;34m(\u001b[0m\u001b[0;34m)\u001b[0m\u001b[0;34m\u001b[0m\u001b[0;34m\u001b[0m\u001b[0m\n\u001b[0m\u001b[1;32m    362\u001b[0m \u001b[0;34m\u001b[0m\u001b[0m\n\u001b[1;32m    363\u001b[0m     \u001b[0;31m# The graph should be finalized before executing this\u001b[0m\u001b[0;34m\u001b[0m\u001b[0;34m\u001b[0m\u001b[0;34m\u001b[0m\u001b[0m\n",
      "\u001b[0;32m~/Documents/Python Projects/diplomaThesis/autoEncodersIntro/venv/lib/python3.9/site-packages/coremltools/converters/keras/_topology2.py\u001b[0m in \u001b[0;36mbuild\u001b[0;34m(self, is_top_level)\u001b[0m\n\u001b[1;32m    701\u001b[0m             )\n\u001b[1;32m    702\u001b[0m             \u001b[0;32mfor\u001b[0m \u001b[0mnode\u001b[0m \u001b[0;32min\u001b[0m \u001b[0min_nodes\u001b[0m\u001b[0;34m:\u001b[0m\u001b[0;34m\u001b[0m\u001b[0;34m\u001b[0m\u001b[0m\n\u001b[0;32m--> 703\u001b[0;31m                 \u001b[0;32mfor\u001b[0m \u001b[0mpred\u001b[0m \u001b[0;32min\u001b[0m \u001b[0mnode\u001b[0m\u001b[0;34m.\u001b[0m\u001b[0minbound_layers\u001b[0m\u001b[0;34m:\u001b[0m\u001b[0;34m\u001b[0m\u001b[0;34m\u001b[0m\u001b[0m\n\u001b[0m\u001b[1;32m    704\u001b[0m                     \u001b[0;32mif\u001b[0m \u001b[0mpred\u001b[0m\u001b[0;34m.\u001b[0m\u001b[0mname\u001b[0m \u001b[0;32mnot\u001b[0m \u001b[0;32min\u001b[0m \u001b[0mself\u001b[0m\u001b[0;34m.\u001b[0m\u001b[0mlayer_list\u001b[0m\u001b[0;34m:\u001b[0m\u001b[0;34m\u001b[0m\u001b[0;34m\u001b[0m\u001b[0m\n\u001b[1;32m    705\u001b[0m                         \u001b[0mself\u001b[0m\u001b[0;34m.\u001b[0m\u001b[0mlayer_list\u001b[0m\u001b[0;34m.\u001b[0m\u001b[0mappend\u001b[0m\u001b[0;34m(\u001b[0m\u001b[0mpred\u001b[0m\u001b[0;34m.\u001b[0m\u001b[0mname\u001b[0m\u001b[0;34m)\u001b[0m\u001b[0;34m\u001b[0m\u001b[0;34m\u001b[0m\u001b[0m\n",
      "\u001b[0;31mTypeError\u001b[0m: 'InputLayer' object is not iterable"
     ]
    }
   ],
   "source": [
    "coremltools.converters.keras.convert(model2)"
   ]
  },
  {
   "cell_type": "code",
   "execution_count": null,
   "id": "e50dc5e6",
   "metadata": {},
   "outputs": [],
   "source": []
  }
 ],
 "metadata": {
  "kernelspec": {
   "display_name": "Python 3",
   "language": "python",
   "name": "python3"
  },
  "language_info": {
   "codemirror_mode": {
    "name": "ipython",
    "version": 3
   },
   "file_extension": ".py",
   "mimetype": "text/x-python",
   "name": "python",
   "nbconvert_exporter": "python",
   "pygments_lexer": "ipython3",
   "version": "3.9.2"
  }
 },
 "nbformat": 4,
 "nbformat_minor": 5
}
